{
 "cells": [
  {
   "cell_type": "markdown",
   "metadata": {},
   "source": [
    "# Image Generate"
   ]
  },
  {
   "cell_type": "markdown",
   "metadata": {},
   "source": [
    "## Image Example\n",
    "\n",
    "from PIL import Image"
   ]
  },
  {
   "cell_type": "code",
   "execution_count": 9,
   "metadata": {},
   "outputs": [],
   "source": [
    "img = Image.new('RGB', (60, 30), color = 'red')\n",
    "img.save('pil_red.png')"
   ]
  },
  {
   "cell_type": "markdown",
   "metadata": {},
   "source": [
    "## Draw Rectangle\n",
    "\n"
   ]
  },
  {
   "cell_type": "code",
   "execution_count": 13,
   "metadata": {},
   "outputs": [],
   "source": [
    "from PIL import Image, ImageDraw\n",
    "\n",
    "# size of image\n",
    "canvas = (1280, 720)\n",
    "\n",
    "# scale ration\n",
    "scale = 5\n",
    "thumb = canvas[0]/scale, canvas[1]/scale\n",
    "\n",
    "# rectangles (width, height, left position, top position)\n",
    "frames = [(50, 50, 5, 5), (60, 60, 100, 50), (100, 100, 205, 120)]\n",
    "\n",
    "# init canvas\n",
    "im = Image.new('RGBA', canvas, (255, 255, 255, 255))\n",
    "draw = ImageDraw.Draw(im)\n",
    "\n",
    "# draw rectangles\n",
    "for frame in frames:\n",
    "    x1, y1 = frame[2], frame[3]\n",
    "    x2, y2 = frame[2] + frame[0], frame[3] + frame[1]\n",
    "    draw.rectangle([x1, y1, x2, y2], outline=(0, 0, 0, 255))\n",
    "    \n",
    "draw = ImageDraw.Draw(im)\n",
    "draw.line((0, 0) + im.size, fill=128)\n",
    "draw.line((0, im.size[1], im.size[0], 0), fill=128)\n",
    "del draw\n",
    "\n",
    "# make thumbnail\n",
    "im.thumbnail(thumb)\n",
    "\n",
    "# save image\n",
    "im.save('im.png')"
   ]
  }
 ],
 "metadata": {
  "kernelspec": {
   "display_name": "Python 3",
   "language": "python",
   "name": "python3"
  },
  "language_info": {
   "codemirror_mode": {
    "name": "ipython",
    "version": 3
   },
   "file_extension": ".py",
   "mimetype": "text/x-python",
   "name": "python",
   "nbconvert_exporter": "python",
   "pygments_lexer": "ipython3",
   "version": "3.6.4"
  }
 },
 "nbformat": 4,
 "nbformat_minor": 2
}
