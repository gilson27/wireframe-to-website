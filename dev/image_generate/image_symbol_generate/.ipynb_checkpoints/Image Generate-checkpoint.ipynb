{
 "cells": [
  {
   "cell_type": "markdown",
   "metadata": {},
   "source": [
    "# Image Generate"
   ]
  },
  {
   "cell_type": "markdown",
   "metadata": {},
   "source": [
    "## Image Example\n",
    "\n",
    "from PIL import Image"
   ]
  },
  {
   "cell_type": "code",
   "execution_count": 9,
   "metadata": {},
   "outputs": [],
   "source": [
    "img = Image.new('RGB', (60, 30), color = 'red')\n",
    "img.save('pil_red.png')"
   ]
  },
  {
   "cell_type": "markdown",
   "metadata": {},
   "source": [
    "## Draw Rectangle\n",
    "\n"
   ]
  },
  {
   "cell_type": "code",
   "execution_count": 15,
   "metadata": {},
   "outputs": [],
   "source": [
    "from PIL import Image, ImageDraw\n",
    "\n",
    "# size of image\n",
    "canvas = (1280, 720)\n",
    "\n",
    "# scale ration\n",
    "scale = 5\n",
    "thumb = canvas[0]/scale, canvas[1]/scale\n",
    "\n",
    "# rectangles (width, height, left position, top position)\n",
    "frames = [(50, 50, 5, 5), (60, 60, 100, 50), (100, 100, 205, 120)]\n",
    "\n",
    "# init canvas\n",
    "im = Image.new('RGBA', canvas, (255, 255, 255, 255))\n",
    "draw = ImageDraw.Draw(im)\n",
    "\n",
    "# draw rectangles\n",
    "for frame in frames:\n",
    "    x1, y1 = frame[2], frame[3]\n",
    "    x2, y2 = frame[2] + frame[0], frame[3] + frame[1]\n",
    "    draw.rectangle([x1, y1, x2, y2], outline=(0, 0, 0, 255))\n",
    "    \n",
    "draw = ImageDraw.Draw(im)\n",
    "draw.line((0, 0) + im.size, fill=128)\n",
    "draw.line((0, im.size[1], im.size[0], 0), fill=128)\n",
    "del draw\n",
    "\n",
    "# make thumbnail\n",
    "im.thumbnail(thumb)\n",
    "\n",
    "# save image\n",
    "im.save('im.png')"
   ]
  },
  {
   "cell_type": "markdown",
   "metadata": {},
   "source": [
    "## Draw Rectangle with Cross (Wireframe Image Symbol)"
   ]
  },
  {
   "cell_type": "code",
   "execution_count": 30,
   "metadata": {},
   "outputs": [],
   "source": [
    "from PIL import Image, ImageDraw\n",
    "\n",
    "# size of image\n",
    "canvas = (1280, 720)\n",
    "scale = 1\n",
    "thumb = canvas[0]/scale, canvas[1]/scale\n",
    "\n",
    "# rectangles (width, height, left position, top position)\n",
    "frames = [(400, 400, 100, 100)]\n",
    "\n",
    "im = Image.new('RGBA', canvas, (255, 255, 255, 255))\n",
    "draw = ImageDraw.Draw(im)\n",
    "\n",
    "for frame in frames:\n",
    "    x1, y1 = frame[2], frame[3]\n",
    "    x2, y2 = frame[2] + frame[0], frame[3] + frame[1]\n",
    "    draw.rectangle([x1, y1, x2, y2], outline=(0, 0, 0, 255))\n",
    "    \n",
    "    draw = ImageDraw.Draw(im)\n",
    "    draw.line((frame[2], frame[3]) + (x2,y2), fill=0)\n",
    "    draw.line((frame[0]+frame[2], frame[3], frame[2], frame[3]+frame[1]), fill=0)\n",
    "    del draw\n",
    "    # save image\n",
    "im.thumbnail(thumb)\n",
    "im.save('rect.png')"
   ]
  },
  {
   "cell_type": "markdown",
   "metadata": {},
   "source": [
    "## Draw random rectangles,circles, image wireframe_symbols randomly and create csv for classification"
   ]
  },
  {
   "cell_type": "code",
   "execution_count": 39,
   "metadata": {},
   "outputs": [
    {
     "ename": "SyntaxError",
     "evalue": "EOL while scanning string literal (<ipython-input-39-55fb955c687b>, line 47)",
     "output_type": "error",
     "traceback": [
      "\u001b[0;36m  File \u001b[0;32m\"<ipython-input-39-55fb955c687b>\"\u001b[0;36m, line \u001b[0;32m47\u001b[0m\n\u001b[0;31m    with open('wf_rect.csv', 'w) as csv_file:\u001b[0m\n\u001b[0m                                             ^\u001b[0m\n\u001b[0;31mSyntaxError\u001b[0m\u001b[0;31m:\u001b[0m EOL while scanning string literal\n"
     ]
    }
   ],
   "source": [
    "from PIL import Image, ImageDraw\n",
    "import random as rand\n",
    "import csv\n",
    "\n",
    "MAX_IMAGES = 10\n",
    "canvas = (1280, 720)\n",
    "scale = 1\n",
    "thumb = canvas[0]/scale, canvas[1]/scale\n",
    "frames = []\n",
    "csv_entry = []\n",
    "WIDTH_FRACTION = 0.75\n",
    "HEIGHT_FRACTION = 0.75\n",
    "\n",
    "# rectangles (width, height, left position, top position)\n",
    "for i in range(MAX_IMAGES):\n",
    "    x = rand.randint(1,(canvas[0]*WIDTH_FRACTION))\n",
    "    y = rand.randint(1,(canvas[1]*HEIGHT_FRACTION))\n",
    "    width = rand.randint(1,(canvas[0]-x-1))\n",
    "    height = rand.randint(1,(canvas[1]-y-1))\n",
    "    frames.append((width, height, x, y))\n",
    "    \n",
    "# Generate rectanles, image wireframe, ellipse or just cross lines\n",
    "for idx, frame in enumerate(frames):\n",
    "    decider = rand.randint(1,4)\n",
    "    if decider == 1:\n",
    "        classifier = 1\n",
    "    else:\n",
    "        classifier = 0        \n",
    "    im = Image.new('RGBA', canvas, (255, 255, 255, 255))\n",
    "    draw = ImageDraw.Draw(im)\n",
    "    x1, y1 = frame[2], frame[3]\n",
    "    x2, y2 = frame[2] + frame[0], frame[3] + frame[1]\n",
    "    if decider == 1 or decider == 4:\n",
    "        draw.rectangle([x1, y1, x2, y2], outline=(0, 0, 0, 255))\n",
    "    elif decider == 2:\n",
    "        draw.ellipse([x1, y1, x2, y2], outline=(0, 0, 0, 255))\n",
    "    if decider == 1 or decider == 3:\n",
    "        draw = ImageDraw.Draw(im)\n",
    "        draw.line((frame[2], frame[3]) + (x2,y2), fill=0)\n",
    "        draw.line((frame[0]+frame[2], frame[3], frame[2], frame[3]+frame[1]), fill=0)\n",
    "        del draw\n",
    "    # save image\n",
    "    im.thumbnail(thumb)\n",
    "    image_name = 'wf_image_symbol_test_data/rect'+str(idx)+'.png'\n",
    "    csv_entry.append([image_name, classifier, frame[0], frame[1], frame[2], frame[3]]);\n",
    "    im.save(image_name)\n",
    "with open('wf_rect.csv', 'w') as csv_file:\n",
    "    pass\n",
    "for entry in csv_entry:\n",
    "    with open('wf_rect.csv', 'a') as csv_file:\n",
    "        wr = csv.writer(csv_file, delimiter=',')\n",
    "        wr.writerow(entry)"
   ]
  },
  {
   "cell_type": "code",
   "execution_count": null,
   "metadata": {},
   "outputs": [],
   "source": []
  }
 ],
 "metadata": {
  "kernelspec": {
   "display_name": "Python 3",
   "language": "python",
   "name": "python3"
  },
  "language_info": {
   "codemirror_mode": {
    "name": "ipython",
    "version": 3
   },
   "file_extension": ".py",
   "mimetype": "text/x-python",
   "name": "python",
   "nbconvert_exporter": "python",
   "pygments_lexer": "ipython3",
   "version": "3.6.4"
  }
 },
 "nbformat": 4,
 "nbformat_minor": 2
}
